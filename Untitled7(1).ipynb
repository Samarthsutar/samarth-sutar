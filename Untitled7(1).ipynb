{
 "cells": [
  {
   "cell_type": "code",
   "execution_count": 1,
   "id": "408e7009-ca62-419e-976e-3e4974266522",
   "metadata": {},
   "outputs": [
    {
     "ename": "NameError",
     "evalue": "name 'name' is not defined",
     "output_type": "error",
     "traceback": [
      "\u001b[0;31m---------------------------------------------------------------------------\u001b[0m",
      "\u001b[0;31mNameError\u001b[0m                                 Traceback (most recent call last)",
      "Cell \u001b[0;32mIn[1], line 1\u001b[0m\n\u001b[0;32m----> 1\u001b[0m name\u001b[38;5;241m@\u001b[39m\u001b[38;5;241m=\u001b[39m \u001b[38;5;124m\"\u001b[39m\u001b[38;5;124msamarth sutar\u001b[39m\u001b[38;5;124m\"\u001b[39m\n",
      "\u001b[0;31mNameError\u001b[0m: name 'name' is not defined"
     ]
    }
   ],
   "source": [
    " name@= \"samarth sutar\" "
   ]
  },
  {
   "cell_type": "code",
   "execution_count": 2,
   "id": "10c1094b-6e8a-4764-a758-07d89e49a7b3",
   "metadata": {},
   "outputs": [
    {
     "ename": "SyntaxError",
     "evalue": "invalid syntax (906989920.py, line 1)",
     "output_type": "error",
     "traceback": [
      "\u001b[0;36m  Cell \u001b[0;32mIn[2], line 1\u001b[0;36m\u001b[0m\n\u001b[0;31m    name_\"samarth sutar\"\u001b[0m\n\u001b[0m         ^\u001b[0m\n\u001b[0;31mSyntaxError\u001b[0m\u001b[0;31m:\u001b[0m invalid syntax\n"
     ]
    }
   ],
   "source": [
    "name_\"samarth sutar\""
   ]
  },
  {
   "cell_type": "code",
   "execution_count": 3,
   "id": "50896500-ec40-4147-af76-e3bd6a656402",
   "metadata": {},
   "outputs": [],
   "source": [
    "_=\"samarth sutar\""
   ]
  },
  {
   "cell_type": "code",
   "execution_count": 4,
   "id": "6e78b67c-6267-4297-bad9-a272632dcf96",
   "metadata": {},
   "outputs": [
    {
     "ename": "SyntaxError",
     "evalue": "invalid syntax (2912672691.py, line 1)",
     "output_type": "error",
     "traceback": [
      "\u001b[0;36m  Cell \u001b[0;32mIn[4], line 1\u001b[0;36m\u001b[0m\n\u001b[0;31m    break = \"samarth sutar \"\u001b[0m\n\u001b[0m          ^\u001b[0m\n\u001b[0;31mSyntaxError\u001b[0m\u001b[0;31m:\u001b[0m invalid syntax\n"
     ]
    }
   ],
   "source": [
    "break = \"samarth sutar \""
   ]
  },
  {
   "cell_type": "code",
   "execution_count": 5,
   "id": "1aef8335-ac7e-48de-88bf-7d430dc624a8",
   "metadata": {},
   "outputs": [
    {
     "ename": "SyntaxError",
     "evalue": "cannot assign to literal here. Maybe you meant '==' instead of '='? (1489233369.py, line 1)",
     "output_type": "error",
     "traceback": [
      "\u001b[0;36m  Cell \u001b[0;32mIn[5], line 1\u001b[0;36m\u001b[0m\n\u001b[0;31m    29=\"samarth sutar\"\u001b[0m\n\u001b[0m    ^\u001b[0m\n\u001b[0;31mSyntaxError\u001b[0m\u001b[0;31m:\u001b[0m cannot assign to literal here. Maybe you meant '==' instead of '='?\n"
     ]
    }
   ],
   "source": [
    "29=\"samarth sutar\""
   ]
  },
  {
   "cell_type": "code",
   "execution_count": 9,
   "id": "d28836c8-a721-41fe-84f8-fbe705526d50",
   "metadata": {},
   "outputs": [],
   "source": [
    "roll_no_29 =\"samarth sutar\""
   ]
  },
  {
   "cell_type": "code",
   "execution_count": 10,
   "id": "7474fd3f-d10d-462c-971e-2d3810360212",
   "metadata": {},
   "outputs": [
    {
     "data": {
      "text/plain": [
       "'samarth sutar'"
      ]
     },
     "execution_count": 10,
     "metadata": {},
     "output_type": "execute_result"
    }
   ],
   "source": [
    "roll_no_29"
   ]
  },
  {
   "cell_type": "code",
   "execution_count": null,
   "id": "be0f0ab4-94d3-4671-81c4-4cfb05562cc0",
   "metadata": {},
   "outputs": [],
   "source": [
    "true = \"samarth sutar\""
   ]
  },
  {
   "cell_type": "code",
   "execution_count": 13,
   "id": "265373d2-9ae6-437d-afff-84a0f1cb171d",
   "metadata": {},
   "outputs": [
    {
     "ename": "SyntaxError",
     "evalue": "invalid syntax (2749732973.py, line 1)",
     "output_type": "error",
     "traceback": [
      "\u001b[0;36m  Cell \u001b[0;32mIn[13], line 1\u001b[0;36m\u001b[0m\n\u001b[0;31m    na me = \"samarth sutar\"\u001b[0m\n\u001b[0m       ^\u001b[0m\n\u001b[0;31mSyntaxError\u001b[0m\u001b[0;31m:\u001b[0m invalid syntax\n"
     ]
    }
   ],
   "source": [
    "na me = \"samarth sutar\""
   ]
  },
  {
   "cell_type": "code",
   "execution_count": 14,
   "id": "722a19cb-4e63-403e-8512-f3aecf9edeae",
   "metadata": {},
   "outputs": [],
   "source": [
    "age = 35"
   ]
  },
  {
   "cell_type": "code",
   "execution_count": 21,
   "id": "83b134fb-e5a7-4393-8841-a5e5d493aa2c",
   "metadata": {},
   "outputs": [],
   "source": [
    "age = 35"
   ]
  },
  {
   "cell_type": "code",
   "execution_count": 22,
   "id": "6cfe75ac-6fad-4f93-a3de-0611c27b4796",
   "metadata": {},
   "outputs": [
    {
     "data": {
      "text/plain": [
       "35"
      ]
     },
     "execution_count": 22,
     "metadata": {},
     "output_type": "execute_result"
    }
   ],
   "source": [
    "age"
   ]
  },
  {
   "cell_type": "code",
   "execution_count": 23,
   "id": "2633ff48-c27e-4fa6-9b87-35328dc46442",
   "metadata": {},
   "outputs": [
    {
     "data": {
      "text/plain": [
       "35"
      ]
     },
     "execution_count": 23,
     "metadata": {},
     "output_type": "execute_result"
    }
   ],
   "source": [
    "age"
   ]
  },
  {
   "cell_type": "code",
   "execution_count": 24,
   "id": "47850177-b2a3-4703-8038-3dc4eb1c6fe3",
   "metadata": {},
   "outputs": [
    {
     "ename": "SyntaxError",
     "evalue": "invalid decimal literal (2455366750.py, line 1)",
     "output_type": "error",
     "traceback": [
      "\u001b[0;36m  Cell \u001b[0;32mIn[24], line 1\u001b[0;36m\u001b[0m\n\u001b[0;31m    23name = \"samarth sutar\"\u001b[0m\n\u001b[0m     ^\u001b[0m\n\u001b[0;31mSyntaxError\u001b[0m\u001b[0;31m:\u001b[0m invalid decimal literal\n"
     ]
    }
   ],
   "source": [
    "23name = \"samarth sutar\""
   ]
  },
  {
   "cell_type": "code",
   "execution_count": 25,
   "id": "7dfaaebf-03b9-4d79-8010-f1da4121e746",
   "metadata": {},
   "outputs": [],
   "source": [
    "name23 = \"samarth sutar\""
   ]
  },
  {
   "cell_type": "code",
   "execution_count": 40,
   "id": "3c6ca37a-9d2a-4d63-8f55-02bbb21c414d",
   "metadata": {},
   "outputs": [],
   "source": [
    "a, b, c, = 23,67,45"
   ]
  },
  {
   "cell_type": "code",
   "execution_count": 29,
   "id": "24831995-8b3e-42b4-a282-f9f2a6cbd96f",
   "metadata": {},
   "outputs": [
    {
     "data": {
      "text/plain": [
       "23"
      ]
     },
     "execution_count": 29,
     "metadata": {},
     "output_type": "execute_result"
    }
   ],
   "source": [
    "a"
   ]
  },
  {
   "cell_type": "code",
   "execution_count": 36,
   "id": "a8b5b8cd-6c08-468d-a594-267c74d2204a",
   "metadata": {},
   "outputs": [
    {
     "data": {
      "text/plain": [
       "67"
      ]
     },
     "execution_count": 36,
     "metadata": {},
     "output_type": "execute_result"
    }
   ],
   "source": [
    "b"
   ]
  },
  {
   "cell_type": "code",
   "execution_count": 46,
   "id": "1f100db7-ce21-4835-b5c4-5dc70946e47d",
   "metadata": {},
   "outputs": [
    {
     "data": {
      "text/plain": [
       "45"
      ]
     },
     "execution_count": 46,
     "metadata": {},
     "output_type": "execute_result"
    }
   ],
   "source": [
    "c"
   ]
  },
  {
   "cell_type": "code",
   "execution_count": 45,
   "id": "b242c249-ba11-4b3c-a257-b59ab5a0fc6a",
   "metadata": {},
   "outputs": [
    {
     "name": "stdout",
     "output_type": "stream",
     "text": [
      "23\n",
      "a\n"
     ]
    }
   ],
   "source": [
    "print(a)\n",
    "print(\"a\")"
   ]
  },
  {
   "cell_type": "code",
   "execution_count": 42,
   "id": "b0157f49-a63c-4a85-be98-03f073eebf07",
   "metadata": {},
   "outputs": [
    {
     "name": "stdout",
     "output_type": "stream",
     "text": [
      "23 67 45\n"
     ]
    }
   ],
   "source": [
    "print(a,b,c)"
   ]
  },
  {
   "cell_type": "code",
   "execution_count": 44,
   "id": "0fec5d7a-a263-44b8-acc9-f95d820b2cab",
   "metadata": {},
   "outputs": [
    {
     "name": "stdout",
     "output_type": "stream",
     "text": [
      "23, 67, 45\n"
     ]
    }
   ],
   "source": [
    "# o/p-->23, 67, 45\n",
    "print(23, 67, 45, sep=', ' )"
   ]
  },
  {
   "cell_type": "code",
   "execution_count": 47,
   "id": "92ddf1db-7c8e-45a9-8217-b4e3a359c88c",
   "metadata": {},
   "outputs": [],
   "source": [
    "name = \"samarth sutar\""
   ]
  },
  {
   "cell_type": "code",
   "execution_count": 48,
   "id": "ce886c35-d8a2-4022-a1d0-3509b51880c5",
   "metadata": {},
   "outputs": [
    {
     "data": {
      "text/plain": [
       "str"
      ]
     },
     "execution_count": 48,
     "metadata": {},
     "output_type": "execute_result"
    }
   ],
   "source": [
    "type(name)"
   ]
  },
  {
   "cell_type": "code",
   "execution_count": 49,
   "id": "4b603b19-e514-49f9-b315-5fba7a2ccba6",
   "metadata": {},
   "outputs": [],
   "source": [
    "name1 = 'samarth sutar'"
   ]
  },
  {
   "cell_type": "code",
   "execution_count": 50,
   "id": "9e1faa2b-6238-4eb8-8695-f69448f84a97",
   "metadata": {},
   "outputs": [
    {
     "data": {
      "text/plain": [
       "str"
      ]
     },
     "execution_count": 50,
     "metadata": {},
     "output_type": "execute_result"
    }
   ],
   "source": [
    "type(name1)"
   ]
  },
  {
   "cell_type": "code",
   "execution_count": 51,
   "id": "b7359081-3813-4d86-8bd3-af27e100953b",
   "metadata": {},
   "outputs": [],
   "source": [
    "name2 = \"\"\" samarth sutar\"\"\""
   ]
  },
  {
   "cell_type": "code",
   "execution_count": 52,
   "id": "ab0ad009-b546-4df9-8a50-539236a2af84",
   "metadata": {},
   "outputs": [
    {
     "ename": "SyntaxError",
     "evalue": "incomplete input (587166769.py, line 1)",
     "output_type": "error",
     "traceback": [
      "\u001b[0;36m  Cell \u001b[0;32mIn[52], line 1\u001b[0;36m\u001b[0m\n\u001b[0;31m    name3 = '''samarth sutar'\u001b[0m\n\u001b[0m            ^\u001b[0m\n\u001b[0;31mSyntaxError\u001b[0m\u001b[0;31m:\u001b[0m incomplete input\n"
     ]
    }
   ],
   "source": [
    "name3 = '''samarth sutar'"
   ]
  },
  {
   "cell_type": "code",
   "execution_count": 53,
   "id": "fa5eed6c-14c8-40c7-bcd5-82e7f1976f54",
   "metadata": {},
   "outputs": [],
   "source": [
    "# single quote in string is allowed \n",
    "# double quote in string is allowed "
   ]
  },
  {
   "cell_type": "code",
   "execution_count": 55,
   "id": "bbdda297-ba54-46c0-955a-37c67e52b01b",
   "metadata": {},
   "outputs": [
    {
     "name": "stdout",
     "output_type": "stream",
     "text": [
      "samarth sutar\n",
      "bhimraj lad\n"
     ]
    }
   ],
   "source": [
    "print(\"samarth sutar\")\n",
    "print(\"bhimraj lad\")"
   ]
  },
  {
   "cell_type": "code",
   "execution_count": null,
   "id": "2bb88c8f-5521-4ff0-9a0f-6a1e2784920d",
   "metadata": {},
   "outputs": [],
   "source": [
    "print (\"samarth sutar\",end='\\t')\n",
    "print (\"samarth sutar\",end='\\t')"
   ]
  },
  {
   "cell_type": "code",
   "execution_count": null,
   "id": "666c7fc4-fee6-453a-9bdd-529c43e879d8",
   "metadata": {},
   "outputs": [],
   "source": [
    "print (\"samarth sutar\",end='\\t')\n",
    "       "
   ]
  }
 ],
 "metadata": {
  "kernelspec": {
   "display_name": "Python 3 (ipykernel)",
   "language": "python",
   "name": "python3"
  },
  "language_info": {
   "codemirror_mode": {
    "name": "ipython",
    "version": 3
   },
   "file_extension": ".py",
   "mimetype": "text/x-python",
   "name": "python",
   "nbconvert_exporter": "python",
   "pygments_lexer": "ipython3",
   "version": "3.12.4"
  }
 },
 "nbformat": 4,
 "nbformat_minor": 5
}
